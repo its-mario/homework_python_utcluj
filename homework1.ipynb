{
 "cells": [
  {
   "metadata": {},
   "cell_type": "markdown",
   "source": "exercitiu 8",
   "id": "d6841d550081e83d"
  },
  {
   "cell_type": "code",
   "id": "initial_id",
   "metadata": {
    "collapsed": true,
    "ExecuteTime": {
     "end_time": "2024-11-12T18:16:33.609676Z",
     "start_time": "2024-11-12T18:16:33.604731Z"
    }
   },
   "source": [
    "litere = {}\n",
    "\n",
    "punct = 0\n",
    "for i in \"abcdefghijklmnopqrstuvwxyz\":\n",
    "    punct += 1\n",
    "    litere[i] = punct\n",
    "\n",
    "litere"
   ],
   "outputs": [
    {
     "data": {
      "text/plain": [
       "{'a': 1,\n",
       " 'b': 2,\n",
       " 'c': 3,\n",
       " 'd': 4,\n",
       " 'e': 5,\n",
       " 'f': 6,\n",
       " 'g': 7,\n",
       " 'h': 8,\n",
       " 'i': 9,\n",
       " 'j': 10,\n",
       " 'k': 11,\n",
       " 'l': 12,\n",
       " 'm': 13,\n",
       " 'n': 14,\n",
       " 'o': 15,\n",
       " 'p': 16,\n",
       " 'q': 17,\n",
       " 'r': 18,\n",
       " 's': 19,\n",
       " 't': 20,\n",
       " 'u': 21,\n",
       " 'v': 22,\n",
       " 'w': 23,\n",
       " 'x': 24,\n",
       " 'y': 25,\n",
       " 'z': 26}"
      ]
     },
     "execution_count": 2,
     "metadata": {},
     "output_type": "execute_result"
    }
   ],
   "execution_count": 2
  },
  {
   "metadata": {
    "ExecuteTime": {
     "end_time": "2024-11-12T18:22:44.100567Z",
     "start_time": "2024-11-12T18:22:44.096853Z"
    }
   },
   "cell_type": "code",
   "source": [
    "litere = {'a': 1,\n",
    "          'b': 2,\n",
    "          'c': 3,\n",
    "          'd': 4,\n",
    "          'e': 5,\n",
    "          'f': 6,\n",
    "          'g': 7,\n",
    "          'h': 8,\n",
    "          'i': 9,\n",
    "          'j': 10,\n",
    "          'k': 11,\n",
    "          'l': 12,\n",
    "          'm': 13,\n",
    "          'n': 14,\n",
    "          'o': 15,\n",
    "          'p': 16,\n",
    "          'q': 17,\n",
    "          'r': 18,\n",
    "          's': 19,\n",
    "          't': 20,\n",
    "          'u': 21,\n",
    "          'v': 22,\n",
    "          'w': 23,\n",
    "          'x': 24,\n",
    "          'y': 25,\n",
    "          'z': 26,\n",
    "}\n",
    "\n",
    "def sum_points(cuvint):\n",
    "    sum = 0\n",
    "    for litera in cuvint:\n",
    "          sum += litere[litera]\n",
    "    return sum\n",
    "\n",
    "sum_points(\"sonic\") # 19 + 15 + 14 + 9 + 3 = 60"
   ],
   "id": "a87d3f1383f3308c",
   "outputs": [
    {
     "data": {
      "text/plain": [
       "60"
      ]
     },
     "execution_count": 3,
     "metadata": {},
     "output_type": "execute_result"
    }
   ],
   "execution_count": 3
  },
  {
   "metadata": {},
   "cell_type": "markdown",
   "source": "exercitiu 1",
   "id": "4b8a4d56a76aff6f"
  },
  {
   "metadata": {},
   "cell_type": "code",
   "outputs": [],
   "execution_count": null,
   "source": [
    "def is_intreg(num):\n",
    "    return int(num) == num"
   ],
   "id": "be240c4d56f1f67a"
  }
 ],
 "metadata": {
  "kernelspec": {
   "display_name": "Python 3",
   "language": "python",
   "name": "python3"
  },
  "language_info": {
   "codemirror_mode": {
    "name": "ipython",
    "version": 2
   },
   "file_extension": ".py",
   "mimetype": "text/x-python",
   "name": "python",
   "nbconvert_exporter": "python",
   "pygments_lexer": "ipython2",
   "version": "2.7.6"
  }
 },
 "nbformat": 4,
 "nbformat_minor": 5
}
